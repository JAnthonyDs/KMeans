{
 "cells": [
  {
   "cell_type": "code",
   "execution_count": 73,
   "metadata": {},
   "outputs": [],
   "source": [
    "import pandas as pd\n",
    "\n",
    "import matplotlib.pyplot as plt"
   ]
  },
  {
   "cell_type": "code",
   "execution_count": 74,
   "metadata": {},
   "outputs": [],
   "source": [
    "df = pd.read_csv('./barrettII_eyes_clustering - Sheet1.csv')"
   ]
  },
  {
   "cell_type": "code",
   "execution_count": 75,
   "metadata": {},
   "outputs": [
    {
     "data": {
      "text/html": [
       "<div>\n",
       "<style scoped>\n",
       "    .dataframe tbody tr th:only-of-type {\n",
       "        vertical-align: middle;\n",
       "    }\n",
       "\n",
       "    .dataframe tbody tr th {\n",
       "        vertical-align: top;\n",
       "    }\n",
       "\n",
       "    .dataframe thead th {\n",
       "        text-align: right;\n",
       "    }\n",
       "</style>\n",
       "<table border=\"1\" class=\"dataframe\">\n",
       "  <thead>\n",
       "    <tr style=\"text-align: right;\">\n",
       "      <th></th>\n",
       "      <th>ID</th>\n",
       "      <th>AL</th>\n",
       "      <th>ACD</th>\n",
       "      <th>WTW</th>\n",
       "      <th>K1</th>\n",
       "      <th>K2</th>\n",
       "      <th>Correto</th>\n",
       "    </tr>\n",
       "  </thead>\n",
       "  <tbody>\n",
       "    <tr>\n",
       "      <th>889</th>\n",
       "      <td>889</td>\n",
       "      <td>23,14</td>\n",
       "      <td>3,26</td>\n",
       "      <td>12,2</td>\n",
       "      <td>43,6</td>\n",
       "      <td>44,18</td>\n",
       "      <td>S</td>\n",
       "    </tr>\n",
       "    <tr>\n",
       "      <th>1040</th>\n",
       "      <td>1040</td>\n",
       "      <td>20,24</td>\n",
       "      <td>3,51</td>\n",
       "      <td>11,7</td>\n",
       "      <td>48,63</td>\n",
       "      <td>50</td>\n",
       "      <td>S</td>\n",
       "    </tr>\n",
       "    <tr>\n",
       "      <th>78</th>\n",
       "      <td>78</td>\n",
       "      <td>25,41</td>\n",
       "      <td>3,67</td>\n",
       "      <td>12,7</td>\n",
       "      <td>42,72</td>\n",
       "      <td>43,05</td>\n",
       "      <td>S</td>\n",
       "    </tr>\n",
       "    <tr>\n",
       "      <th>1269</th>\n",
       "      <td>1269</td>\n",
       "      <td>25,26</td>\n",
       "      <td>3,03</td>\n",
       "      <td>12,4</td>\n",
       "      <td>45,36</td>\n",
       "      <td>45,61</td>\n",
       "      <td>S</td>\n",
       "    </tr>\n",
       "    <tr>\n",
       "      <th>1409</th>\n",
       "      <td>1409</td>\n",
       "      <td>22,81</td>\n",
       "      <td>3,11</td>\n",
       "      <td>12,1</td>\n",
       "      <td>43,83</td>\n",
       "      <td>44,35</td>\n",
       "      <td>S</td>\n",
       "    </tr>\n",
       "  </tbody>\n",
       "</table>\n",
       "</div>"
      ],
      "text/plain": [
       "        ID     AL   ACD   WTW     K1     K2 Correto\n",
       "889    889  23,14  3,26  12,2   43,6  44,18       S\n",
       "1040  1040  20,24  3,51  11,7  48,63     50       S\n",
       "78      78  25,41  3,67  12,7  42,72  43,05       S\n",
       "1269  1269  25,26  3,03  12,4  45,36  45,61       S\n",
       "1409  1409  22,81  3,11  12,1  43,83  44,35       S"
      ]
     },
     "execution_count": 75,
     "metadata": {},
     "output_type": "execute_result"
    }
   ],
   "source": [
    "df.sample(5)"
   ]
  },
  {
   "cell_type": "code",
   "execution_count": 76,
   "metadata": {},
   "outputs": [],
   "source": [
    "df = df.drop('Correto', axis=1)\n",
    "df = df.drop('ID', axis=1)"
   ]
  },
  {
   "cell_type": "code",
   "execution_count": 77,
   "metadata": {},
   "outputs": [
    {
     "data": {
      "text/plain": [
       "AL     False\n",
       "ACD    False\n",
       "WTW    False\n",
       "K1     False\n",
       "K2     False\n",
       "dtype: bool"
      ]
     },
     "execution_count": 77,
     "metadata": {},
     "output_type": "execute_result"
    }
   ],
   "source": [
    "df.isna().any()"
   ]
  },
  {
   "cell_type": "code",
   "execution_count": 78,
   "metadata": {},
   "outputs": [
    {
     "data": {
      "text/plain": [
       "AL\n",
       "22,99    12\n",
       "23,39    11\n",
       "23,17    11\n",
       "23,72    11\n",
       "23,27    10\n",
       "         ..\n",
       "26,34     1\n",
       "24,75     1\n",
       "21,67     1\n",
       "25,61     1\n",
       "26,18     1\n",
       "Name: count, Length: 447, dtype: int64"
      ]
     },
     "execution_count": 78,
     "metadata": {},
     "output_type": "execute_result"
    }
   ],
   "source": [
    "df.AL.value_counts()"
   ]
  },
  {
   "cell_type": "code",
   "execution_count": 79,
   "metadata": {},
   "outputs": [],
   "source": [
    "df = df.replace(',', '.', regex=True)"
   ]
  },
  {
   "cell_type": "code",
   "execution_count": 80,
   "metadata": {},
   "outputs": [],
   "source": [
    "df = df.astype(float)"
   ]
  },
  {
   "cell_type": "code",
   "execution_count": 81,
   "metadata": {},
   "outputs": [
    {
     "data": {
      "text/html": [
       "<div>\n",
       "<style scoped>\n",
       "    .dataframe tbody tr th:only-of-type {\n",
       "        vertical-align: middle;\n",
       "    }\n",
       "\n",
       "    .dataframe tbody tr th {\n",
       "        vertical-align: top;\n",
       "    }\n",
       "\n",
       "    .dataframe thead th {\n",
       "        text-align: right;\n",
       "    }\n",
       "</style>\n",
       "<table border=\"1\" class=\"dataframe\">\n",
       "  <thead>\n",
       "    <tr style=\"text-align: right;\">\n",
       "      <th></th>\n",
       "      <th>AL</th>\n",
       "      <th>ACD</th>\n",
       "      <th>WTW</th>\n",
       "      <th>K1</th>\n",
       "      <th>K2</th>\n",
       "    </tr>\n",
       "  </thead>\n",
       "  <tbody>\n",
       "    <tr>\n",
       "      <th>0</th>\n",
       "      <td>0.187323</td>\n",
       "      <td>0.026142</td>\n",
       "      <td>0.094488</td>\n",
       "      <td>0.343307</td>\n",
       "      <td>0.348740</td>\n",
       "    </tr>\n",
       "    <tr>\n",
       "      <th>1</th>\n",
       "      <td>0.194821</td>\n",
       "      <td>0.026847</td>\n",
       "      <td>0.097410</td>\n",
       "      <td>0.332858</td>\n",
       "      <td>0.348064</td>\n",
       "    </tr>\n",
       "    <tr>\n",
       "      <th>2</th>\n",
       "      <td>0.194726</td>\n",
       "      <td>0.027795</td>\n",
       "      <td>0.097403</td>\n",
       "      <td>0.339167</td>\n",
       "      <td>0.340909</td>\n",
       "    </tr>\n",
       "    <tr>\n",
       "      <th>3</th>\n",
       "      <td>0.193590</td>\n",
       "      <td>0.023836</td>\n",
       "      <td>0.096634</td>\n",
       "      <td>0.341037</td>\n",
       "      <td>0.344903</td>\n",
       "    </tr>\n",
       "    <tr>\n",
       "      <th>4</th>\n",
       "      <td>0.203079</td>\n",
       "      <td>0.019980</td>\n",
       "      <td>0.099902</td>\n",
       "      <td>0.335817</td>\n",
       "      <td>0.341222</td>\n",
       "    </tr>\n",
       "    <tr>\n",
       "      <th>...</th>\n",
       "      <td>...</td>\n",
       "      <td>...</td>\n",
       "      <td>...</td>\n",
       "      <td>...</td>\n",
       "      <td>...</td>\n",
       "    </tr>\n",
       "    <tr>\n",
       "      <th>1523</th>\n",
       "      <td>0.184757</td>\n",
       "      <td>0.026066</td>\n",
       "      <td>0.099033</td>\n",
       "      <td>0.341943</td>\n",
       "      <td>0.348202</td>\n",
       "    </tr>\n",
       "    <tr>\n",
       "      <th>1524</th>\n",
       "      <td>0.187074</td>\n",
       "      <td>0.025297</td>\n",
       "      <td>0.103093</td>\n",
       "      <td>0.338779</td>\n",
       "      <td>0.345757</td>\n",
       "    </tr>\n",
       "    <tr>\n",
       "      <th>1525</th>\n",
       "      <td>0.201804</td>\n",
       "      <td>0.029523</td>\n",
       "      <td>0.093271</td>\n",
       "      <td>0.334849</td>\n",
       "      <td>0.340553</td>\n",
       "    </tr>\n",
       "    <tr>\n",
       "      <th>1526</th>\n",
       "      <td>0.191175</td>\n",
       "      <td>0.021982</td>\n",
       "      <td>0.099992</td>\n",
       "      <td>0.339894</td>\n",
       "      <td>0.346957</td>\n",
       "    </tr>\n",
       "    <tr>\n",
       "      <th>1527</th>\n",
       "      <td>0.186142</td>\n",
       "      <td>0.023976</td>\n",
       "      <td>0.091558</td>\n",
       "      <td>0.346834</td>\n",
       "      <td>0.351490</td>\n",
       "    </tr>\n",
       "  </tbody>\n",
       "</table>\n",
       "<p>1528 rows × 5 columns</p>\n",
       "</div>"
      ],
      "text/plain": [
       "            AL       ACD       WTW        K1        K2\n",
       "0     0.187323  0.026142  0.094488  0.343307  0.348740\n",
       "1     0.194821  0.026847  0.097410  0.332858  0.348064\n",
       "2     0.194726  0.027795  0.097403  0.339167  0.340909\n",
       "3     0.193590  0.023836  0.096634  0.341037  0.344903\n",
       "4     0.203079  0.019980  0.099902  0.335817  0.341222\n",
       "...        ...       ...       ...       ...       ...\n",
       "1523  0.184757  0.026066  0.099033  0.341943  0.348202\n",
       "1524  0.187074  0.025297  0.103093  0.338779  0.345757\n",
       "1525  0.201804  0.029523  0.093271  0.334849  0.340553\n",
       "1526  0.191175  0.021982  0.099992  0.339894  0.346957\n",
       "1527  0.186142  0.023976  0.091558  0.346834  0.351490\n",
       "\n",
       "[1528 rows x 5 columns]"
      ]
     },
     "execution_count": 81,
     "metadata": {},
     "output_type": "execute_result"
    }
   ],
   "source": [
    "X = df.div(df.sum(axis=1), axis='rows')\n",
    "X"
   ]
  },
  {
   "cell_type": "code",
   "execution_count": 82,
   "metadata": {},
   "outputs": [
    {
     "name": "stdout",
     "output_type": "stream",
     "text": [
      "2\n",
      "3\n",
      "4\n",
      "5\n",
      "6\n",
      "7\n",
      "8\n",
      "9\n",
      "10\n",
      "11\n",
      "12\n",
      "13\n",
      "14\n"
     ]
    }
   ],
   "source": [
    "from sklearn.cluster import KMeans\n",
    "\n",
    "#Para definir o melhor K -> critério de cotovelo\n",
    "distortions = []\n",
    "n_cluster = range(2,15) #Vou testar de 2 a 14 cluster\n",
    "for n in n_cluster:\n",
    "  print(n)\n",
    "  distortions.append(KMeans(n_clusters=n, max_iter=10_000, n_init=100, random_state=61658).fit(X).inertia_) #Faz a clusterização 100 vezes, tentando 10000 passos para pegar a melhor\n",
    "  #inertia é a distância entre os clusters"
   ]
  },
  {
   "cell_type": "code",
   "execution_count": 83,
   "metadata": {},
   "outputs": [
    {
     "data": {
      "text/plain": [
       "[0.21744377476137688,\n",
       " 0.1488297873331102,\n",
       " 0.11787557491142593,\n",
       " 0.09774532855374955,\n",
       " 0.08550671561309282,\n",
       " 0.07795536612970702,\n",
       " 0.07260887405545431,\n",
       " 0.06798192066548722,\n",
       " 0.06426655377396513,\n",
       " 0.06056996785160958,\n",
       " 0.05772923794107142,\n",
       " 0.05501853168270285,\n",
       " 0.05296592524311923]"
      ]
     },
     "execution_count": 83,
     "metadata": {},
     "output_type": "execute_result"
    }
   ],
   "source": [
    "distortions"
   ]
  },
  {
   "cell_type": "code",
   "execution_count": 84,
   "metadata": {},
   "outputs": [
    {
     "data": {
      "image/png": "[encoded data removed]",
      "text/plain": [
       "<Figure size 1500x500 with 1 Axes>"
      ]
     },
     "metadata": {},
     "output_type": "display_data"
    }
   ],
   "source": [
    "plt.figure(figsize=(15,5))\n",
    "plt.plot(n_cluster, distortions)\n",
    "plt.grid()"
   ]
  },
  {
   "cell_type": "code",
   "execution_count": 86,
   "metadata": {},
   "outputs": [
    {
     "data": {
      "text/plain": [
       "array([2, 0, 0, ..., 0, 2, 2])"
      ]
     },
     "execution_count": 86,
     "metadata": {},
     "output_type": "execute_result"
    }
   ],
   "source": [
    "km = KMeans(n_clusters=3, max_iter=10_000, n_init=100, random_state=61658)\n",
    "X_t = km.fit_predict(X)\n",
    "X_t"
   ]
  }
 ],
 "metadata": {
  "kernelspec": {
   "display_name": "venv",
   "language": "python",
   "name": "python3"
  },
  "language_info": {
   "codemirror_mode": {
    "name": "ipython",
    "version": 3
   },
   "file_extension": ".py",
   "mimetype": "text/x-python",
   "name": "python",
   "nbconvert_exporter": "python",
   "pygments_lexer": "ipython3",
   "version": "3.12.2"
  }
 },
 "nbformat": 4,
 "nbformat_minor": 2
}
